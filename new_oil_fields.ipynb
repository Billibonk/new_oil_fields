{
 "cells": [
  {
   "cell_type": "markdown",
   "metadata": {
    "toc": true
   },
   "source": [
    "<h1>Содержание<span class=\"tocSkip\"></span></h1>\n",
    "<div class=\"toc\"><ul class=\"toc-item\"><li><span><a href=\"#Загрузка-и-подготовка-данных\" data-toc-modified-id=\"Загрузка-и-подготовка-данных-1\"><span class=\"toc-item-num\">1&nbsp;&nbsp;</span>Загрузка и подготовка данных</a></span><ul class=\"toc-item\"><li><span><a href=\"#Признаки\" data-toc-modified-id=\"Признаки-1.1\"><span class=\"toc-item-num\">1.1&nbsp;&nbsp;</span>Признаки</a></span></li><li><span><a href=\"#Целевой-признак\" data-toc-modified-id=\"Целевой-признак-1.2\"><span class=\"toc-item-num\">1.2&nbsp;&nbsp;</span>Целевой признак</a></span></li></ul></li><li><span><a href=\"#Обучение-и-проверка-модели\" data-toc-modified-id=\"Обучение-и-проверка-модели-2\"><span class=\"toc-item-num\">2&nbsp;&nbsp;</span>Обучение и проверка модели</a></span><ul class=\"toc-item\"><li><span><a href=\"#Регион-1\" data-toc-modified-id=\"Регион-1-2.1\"><span class=\"toc-item-num\">2.1&nbsp;&nbsp;</span>Регион 1</a></span></li><li><span><a href=\"#Регион-2\" data-toc-modified-id=\"Регион-2-2.2\"><span class=\"toc-item-num\">2.2&nbsp;&nbsp;</span>Регион 2</a></span></li><li><span><a href=\"#Регион-3\" data-toc-modified-id=\"Регион-3-2.3\"><span class=\"toc-item-num\">2.3&nbsp;&nbsp;</span>Регион 3</a></span></li><li><span><a href=\"#Вывод\" data-toc-modified-id=\"Вывод-2.4\"><span class=\"toc-item-num\">2.4&nbsp;&nbsp;</span>Вывод</a></span></li></ul></li><li><span><a href=\"#Подготовка-к-расчёту-прибыли\" data-toc-modified-id=\"Подготовка-к-расчёту-прибыли-3\"><span class=\"toc-item-num\">3&nbsp;&nbsp;</span>Подготовка к расчёту прибыли</a></span><ul class=\"toc-item\"><li><span><a href=\"#Вывод\" data-toc-modified-id=\"Вывод-3.1\"><span class=\"toc-item-num\">3.1&nbsp;&nbsp;</span>Вывод</a></span></li></ul></li><li><span><a href=\"#Расчёт-прибыли-и-рисков\" data-toc-modified-id=\"Расчёт-прибыли-и-рисков-4\"><span class=\"toc-item-num\">4&nbsp;&nbsp;</span>Расчёт прибыли и рисков</a></span><ul class=\"toc-item\"><li><span><a href=\"#Функция-для-расчёта-прибыли-по-выбранным-скважинам-и-предсказаниям-модели:\" data-toc-modified-id=\"Функция-для-расчёта-прибыли-по-выбранным-скважинам-и-предсказаниям-модели:-4.1\"><span class=\"toc-item-num\">4.1&nbsp;&nbsp;</span>Функция для расчёта прибыли по выбранным скважинам и предсказаниям модели:</a></span></li><li><span><a href=\"#Функция-для-расчета-рисков-и-прибыли-для-каждого-региона:\" data-toc-modified-id=\"Функция-для-расчета-рисков-и-прибыли-для-каждого-региона:-4.2\"><span class=\"toc-item-num\">4.2&nbsp;&nbsp;</span>Функция для расчета рисков и прибыли для каждого региона:</a></span></li><li><span><a href=\"#Регион-1\" data-toc-modified-id=\"Регион-1-4.3\"><span class=\"toc-item-num\">4.3&nbsp;&nbsp;</span>Регион 1</a></span></li><li><span><a href=\"#Регион-2\" data-toc-modified-id=\"Регион-2-4.4\"><span class=\"toc-item-num\">4.4&nbsp;&nbsp;</span>Регион 2</a></span></li><li><span><a href=\"#Регион-3\" data-toc-modified-id=\"Регион-3-4.5\"><span class=\"toc-item-num\">4.5&nbsp;&nbsp;</span>Регион 3</a></span></li><li><span><a href=\"#Вывод\" data-toc-modified-id=\"Вывод-4.6\"><span class=\"toc-item-num\">4.6&nbsp;&nbsp;</span>Вывод</a></span></li></ul></li><li><span><a href=\"#Общий-вывод\" data-toc-modified-id=\"Общий-вывод-5\"><span class=\"toc-item-num\">5&nbsp;&nbsp;</span>Общий вывод</a></span></li></ul></div>"
   ]
  },
  {
   "cell_type": "markdown",
   "metadata": {},
   "source": [
    "# Описание проекта:\n",
    "\n",
    "Нужно решить, где бурить новую скважину.\n",
    "\n",
    "Вам предоставлены пробы нефти в трёх регионах: в каждом 10 000 месторождений, где измерили качество нефти и объём её запасов. Постройте модель машинного обучения, которая поможет определить регион, где добыча принесёт наибольшую прибыль. Проанализируйте возможную прибыль и риски техникой Bootstrap.\n",
    "\n",
    "\n",
    "**Шаги для выбора локации:**\n",
    "\n",
    "- В избранном регионе ищут месторождения, для каждого определяют значения признаков;\n",
    "- Строят модель и оценивают объём запасов;\n",
    "- Выбирают месторождения с самым высокими оценками значений. Количество месторождений зависит от бюджета компании и стоимости разработки одной скважины;\n",
    "- Прибыль равна суммарной прибыли отобранных месторождений."
   ]
  },
  {
   "cell_type": "markdown",
   "metadata": {},
   "source": [
    "# Описание данных\n",
    "\n",
    "Данные геологоразведки трёх регионов находятся в файлах:\n",
    "- geo_data_0.csv. \n",
    "- geo_data_1.csv. \n",
    "- geo_data_2.csv.\n",
    "\n",
    "id — уникальный идентификатор скважины;\n",
    "\n",
    "f0, f1, f2 — три признака точек (неважно, что они означают, но сами признаки значимы);\n",
    "\n",
    "product — объём запасов в скважине (тыс. баррелей)."
   ]
  },
  {
   "cell_type": "markdown",
   "metadata": {},
   "source": [
    "## Загрузка и подготовка данных"
   ]
  },
  {
   "cell_type": "markdown",
   "metadata": {},
   "source": [
    "### Признаки"
   ]
  },
  {
   "cell_type": "markdown",
   "metadata": {},
   "source": [
    "- `id` — уникальный идентификатор скважины;\n",
    "- `f0, f1, f2` — три признака точек (неважно, что они означают, но сами признаки значимы)."
   ]
  },
  {
   "cell_type": "markdown",
   "metadata": {},
   "source": [
    "### Целевой признак"
   ]
  },
  {
   "cell_type": "markdown",
   "metadata": {},
   "source": [
    "- `product` — объём запасов в скважине (тыс. баррелей)."
   ]
  },
  {
   "cell_type": "code",
   "execution_count": 1,
   "metadata": {},
   "outputs": [],
   "source": [
    "import pandas as pd\n",
    "import numpy as np\n",
    "\n",
    "from sklearn.model_selection import train_test_split\n",
    "from sklearn.linear_model import LinearRegression\n",
    "from sklearn.metrics import mean_squared_error\n",
    "\n",
    "from sklearn.model_selection import GridSearchCV\n"
   ]
  },
  {
   "cell_type": "code",
   "execution_count": 2,
   "metadata": {},
   "outputs": [],
   "source": [
    "def df_info(file_path):\n",
    "    df = pd.read_csv(file_path)\n",
    "    display(df.head())\n",
    "    display(df.info())\n",
    "    display(df.describe())\n",
    "    print('Количество дубликатов:', df.duplicated().sum())\n",
    "    return df"
   ]
  },
  {
   "cell_type": "code",
   "execution_count": 3,
   "metadata": {
    "scrolled": true
   },
   "outputs": [
    {
     "data": {
      "text/html": [
       "<div>\n",
       "<style scoped>\n",
       "    .dataframe tbody tr th:only-of-type {\n",
       "        vertical-align: middle;\n",
       "    }\n",
       "\n",
       "    .dataframe tbody tr th {\n",
       "        vertical-align: top;\n",
       "    }\n",
       "\n",
       "    .dataframe thead th {\n",
       "        text-align: right;\n",
       "    }\n",
       "</style>\n",
       "<table border=\"1\" class=\"dataframe\">\n",
       "  <thead>\n",
       "    <tr style=\"text-align: right;\">\n",
       "      <th></th>\n",
       "      <th>id</th>\n",
       "      <th>f0</th>\n",
       "      <th>f1</th>\n",
       "      <th>f2</th>\n",
       "      <th>product</th>\n",
       "    </tr>\n",
       "  </thead>\n",
       "  <tbody>\n",
       "    <tr>\n",
       "      <th>0</th>\n",
       "      <td>txEyH</td>\n",
       "      <td>0.705745</td>\n",
       "      <td>-0.497823</td>\n",
       "      <td>1.221170</td>\n",
       "      <td>105.280062</td>\n",
       "    </tr>\n",
       "    <tr>\n",
       "      <th>1</th>\n",
       "      <td>2acmU</td>\n",
       "      <td>1.334711</td>\n",
       "      <td>-0.340164</td>\n",
       "      <td>4.365080</td>\n",
       "      <td>73.037750</td>\n",
       "    </tr>\n",
       "    <tr>\n",
       "      <th>2</th>\n",
       "      <td>409Wp</td>\n",
       "      <td>1.022732</td>\n",
       "      <td>0.151990</td>\n",
       "      <td>1.419926</td>\n",
       "      <td>85.265647</td>\n",
       "    </tr>\n",
       "    <tr>\n",
       "      <th>3</th>\n",
       "      <td>iJLyR</td>\n",
       "      <td>-0.032172</td>\n",
       "      <td>0.139033</td>\n",
       "      <td>2.978566</td>\n",
       "      <td>168.620776</td>\n",
       "    </tr>\n",
       "    <tr>\n",
       "      <th>4</th>\n",
       "      <td>Xdl7t</td>\n",
       "      <td>1.988431</td>\n",
       "      <td>0.155413</td>\n",
       "      <td>4.751769</td>\n",
       "      <td>154.036647</td>\n",
       "    </tr>\n",
       "  </tbody>\n",
       "</table>\n",
       "</div>"
      ],
      "text/plain": [
       "      id        f0        f1        f2     product\n",
       "0  txEyH  0.705745 -0.497823  1.221170  105.280062\n",
       "1  2acmU  1.334711 -0.340164  4.365080   73.037750\n",
       "2  409Wp  1.022732  0.151990  1.419926   85.265647\n",
       "3  iJLyR -0.032172  0.139033  2.978566  168.620776\n",
       "4  Xdl7t  1.988431  0.155413  4.751769  154.036647"
      ]
     },
     "metadata": {},
     "output_type": "display_data"
    },
    {
     "name": "stdout",
     "output_type": "stream",
     "text": [
      "<class 'pandas.core.frame.DataFrame'>\n",
      "RangeIndex: 100000 entries, 0 to 99999\n",
      "Data columns (total 5 columns):\n",
      " #   Column   Non-Null Count   Dtype  \n",
      "---  ------   --------------   -----  \n",
      " 0   id       100000 non-null  object \n",
      " 1   f0       100000 non-null  float64\n",
      " 2   f1       100000 non-null  float64\n",
      " 3   f2       100000 non-null  float64\n",
      " 4   product  100000 non-null  float64\n",
      "dtypes: float64(4), object(1)\n",
      "memory usage: 3.8+ MB\n"
     ]
    },
    {
     "data": {
      "text/plain": [
       "None"
      ]
     },
     "metadata": {},
     "output_type": "display_data"
    },
    {
     "data": {
      "text/html": [
       "<div>\n",
       "<style scoped>\n",
       "    .dataframe tbody tr th:only-of-type {\n",
       "        vertical-align: middle;\n",
       "    }\n",
       "\n",
       "    .dataframe tbody tr th {\n",
       "        vertical-align: top;\n",
       "    }\n",
       "\n",
       "    .dataframe thead th {\n",
       "        text-align: right;\n",
       "    }\n",
       "</style>\n",
       "<table border=\"1\" class=\"dataframe\">\n",
       "  <thead>\n",
       "    <tr style=\"text-align: right;\">\n",
       "      <th></th>\n",
       "      <th>f0</th>\n",
       "      <th>f1</th>\n",
       "      <th>f2</th>\n",
       "      <th>product</th>\n",
       "    </tr>\n",
       "  </thead>\n",
       "  <tbody>\n",
       "    <tr>\n",
       "      <th>count</th>\n",
       "      <td>100000.000000</td>\n",
       "      <td>100000.000000</td>\n",
       "      <td>100000.000000</td>\n",
       "      <td>100000.000000</td>\n",
       "    </tr>\n",
       "    <tr>\n",
       "      <th>mean</th>\n",
       "      <td>0.500419</td>\n",
       "      <td>0.250143</td>\n",
       "      <td>2.502647</td>\n",
       "      <td>92.500000</td>\n",
       "    </tr>\n",
       "    <tr>\n",
       "      <th>std</th>\n",
       "      <td>0.871832</td>\n",
       "      <td>0.504433</td>\n",
       "      <td>3.248248</td>\n",
       "      <td>44.288691</td>\n",
       "    </tr>\n",
       "    <tr>\n",
       "      <th>min</th>\n",
       "      <td>-1.408605</td>\n",
       "      <td>-0.848218</td>\n",
       "      <td>-12.088328</td>\n",
       "      <td>0.000000</td>\n",
       "    </tr>\n",
       "    <tr>\n",
       "      <th>25%</th>\n",
       "      <td>-0.072580</td>\n",
       "      <td>-0.200881</td>\n",
       "      <td>0.287748</td>\n",
       "      <td>56.497507</td>\n",
       "    </tr>\n",
       "    <tr>\n",
       "      <th>50%</th>\n",
       "      <td>0.502360</td>\n",
       "      <td>0.250252</td>\n",
       "      <td>2.515969</td>\n",
       "      <td>91.849972</td>\n",
       "    </tr>\n",
       "    <tr>\n",
       "      <th>75%</th>\n",
       "      <td>1.073581</td>\n",
       "      <td>0.700646</td>\n",
       "      <td>4.715088</td>\n",
       "      <td>128.564089</td>\n",
       "    </tr>\n",
       "    <tr>\n",
       "      <th>max</th>\n",
       "      <td>2.362331</td>\n",
       "      <td>1.343769</td>\n",
       "      <td>16.003790</td>\n",
       "      <td>185.364347</td>\n",
       "    </tr>\n",
       "  </tbody>\n",
       "</table>\n",
       "</div>"
      ],
      "text/plain": [
       "                  f0             f1             f2        product\n",
       "count  100000.000000  100000.000000  100000.000000  100000.000000\n",
       "mean        0.500419       0.250143       2.502647      92.500000\n",
       "std         0.871832       0.504433       3.248248      44.288691\n",
       "min        -1.408605      -0.848218     -12.088328       0.000000\n",
       "25%        -0.072580      -0.200881       0.287748      56.497507\n",
       "50%         0.502360       0.250252       2.515969      91.849972\n",
       "75%         1.073581       0.700646       4.715088     128.564089\n",
       "max         2.362331       1.343769      16.003790     185.364347"
      ]
     },
     "metadata": {},
     "output_type": "display_data"
    },
    {
     "name": "stdout",
     "output_type": "stream",
     "text": [
      "Количество дубликатов: 0\n"
     ]
    }
   ],
   "source": [
    "geo_df_0 = df_info('geo_data_0.csv')"
   ]
  },
  {
   "cell_type": "code",
   "execution_count": 4,
   "metadata": {},
   "outputs": [
    {
     "data": {
      "text/html": [
       "<div>\n",
       "<style scoped>\n",
       "    .dataframe tbody tr th:only-of-type {\n",
       "        vertical-align: middle;\n",
       "    }\n",
       "\n",
       "    .dataframe tbody tr th {\n",
       "        vertical-align: top;\n",
       "    }\n",
       "\n",
       "    .dataframe thead th {\n",
       "        text-align: right;\n",
       "    }\n",
       "</style>\n",
       "<table border=\"1\" class=\"dataframe\">\n",
       "  <thead>\n",
       "    <tr style=\"text-align: right;\">\n",
       "      <th></th>\n",
       "      <th>id</th>\n",
       "      <th>f0</th>\n",
       "      <th>f1</th>\n",
       "      <th>f2</th>\n",
       "      <th>product</th>\n",
       "    </tr>\n",
       "  </thead>\n",
       "  <tbody>\n",
       "    <tr>\n",
       "      <th>0</th>\n",
       "      <td>kBEdx</td>\n",
       "      <td>-15.001348</td>\n",
       "      <td>-8.276000</td>\n",
       "      <td>-0.005876</td>\n",
       "      <td>3.179103</td>\n",
       "    </tr>\n",
       "    <tr>\n",
       "      <th>1</th>\n",
       "      <td>62mP7</td>\n",
       "      <td>14.272088</td>\n",
       "      <td>-3.475083</td>\n",
       "      <td>0.999183</td>\n",
       "      <td>26.953261</td>\n",
       "    </tr>\n",
       "    <tr>\n",
       "      <th>2</th>\n",
       "      <td>vyE1P</td>\n",
       "      <td>6.263187</td>\n",
       "      <td>-5.948386</td>\n",
       "      <td>5.001160</td>\n",
       "      <td>134.766305</td>\n",
       "    </tr>\n",
       "    <tr>\n",
       "      <th>3</th>\n",
       "      <td>KcrkZ</td>\n",
       "      <td>-13.081196</td>\n",
       "      <td>-11.506057</td>\n",
       "      <td>4.999415</td>\n",
       "      <td>137.945408</td>\n",
       "    </tr>\n",
       "    <tr>\n",
       "      <th>4</th>\n",
       "      <td>AHL4O</td>\n",
       "      <td>12.702195</td>\n",
       "      <td>-8.147433</td>\n",
       "      <td>5.004363</td>\n",
       "      <td>134.766305</td>\n",
       "    </tr>\n",
       "  </tbody>\n",
       "</table>\n",
       "</div>"
      ],
      "text/plain": [
       "      id         f0         f1        f2     product\n",
       "0  kBEdx -15.001348  -8.276000 -0.005876    3.179103\n",
       "1  62mP7  14.272088  -3.475083  0.999183   26.953261\n",
       "2  vyE1P   6.263187  -5.948386  5.001160  134.766305\n",
       "3  KcrkZ -13.081196 -11.506057  4.999415  137.945408\n",
       "4  AHL4O  12.702195  -8.147433  5.004363  134.766305"
      ]
     },
     "metadata": {},
     "output_type": "display_data"
    },
    {
     "name": "stdout",
     "output_type": "stream",
     "text": [
      "<class 'pandas.core.frame.DataFrame'>\n",
      "RangeIndex: 100000 entries, 0 to 99999\n",
      "Data columns (total 5 columns):\n",
      " #   Column   Non-Null Count   Dtype  \n",
      "---  ------   --------------   -----  \n",
      " 0   id       100000 non-null  object \n",
      " 1   f0       100000 non-null  float64\n",
      " 2   f1       100000 non-null  float64\n",
      " 3   f2       100000 non-null  float64\n",
      " 4   product  100000 non-null  float64\n",
      "dtypes: float64(4), object(1)\n",
      "memory usage: 3.8+ MB\n"
     ]
    },
    {
     "data": {
      "text/plain": [
       "None"
      ]
     },
     "metadata": {},
     "output_type": "display_data"
    },
    {
     "data": {
      "text/html": [
       "<div>\n",
       "<style scoped>\n",
       "    .dataframe tbody tr th:only-of-type {\n",
       "        vertical-align: middle;\n",
       "    }\n",
       "\n",
       "    .dataframe tbody tr th {\n",
       "        vertical-align: top;\n",
       "    }\n",
       "\n",
       "    .dataframe thead th {\n",
       "        text-align: right;\n",
       "    }\n",
       "</style>\n",
       "<table border=\"1\" class=\"dataframe\">\n",
       "  <thead>\n",
       "    <tr style=\"text-align: right;\">\n",
       "      <th></th>\n",
       "      <th>f0</th>\n",
       "      <th>f1</th>\n",
       "      <th>f2</th>\n",
       "      <th>product</th>\n",
       "    </tr>\n",
       "  </thead>\n",
       "  <tbody>\n",
       "    <tr>\n",
       "      <th>count</th>\n",
       "      <td>100000.000000</td>\n",
       "      <td>100000.000000</td>\n",
       "      <td>100000.000000</td>\n",
       "      <td>100000.000000</td>\n",
       "    </tr>\n",
       "    <tr>\n",
       "      <th>mean</th>\n",
       "      <td>1.141296</td>\n",
       "      <td>-4.796579</td>\n",
       "      <td>2.494541</td>\n",
       "      <td>68.825000</td>\n",
       "    </tr>\n",
       "    <tr>\n",
       "      <th>std</th>\n",
       "      <td>8.965932</td>\n",
       "      <td>5.119872</td>\n",
       "      <td>1.703572</td>\n",
       "      <td>45.944423</td>\n",
       "    </tr>\n",
       "    <tr>\n",
       "      <th>min</th>\n",
       "      <td>-31.609576</td>\n",
       "      <td>-26.358598</td>\n",
       "      <td>-0.018144</td>\n",
       "      <td>0.000000</td>\n",
       "    </tr>\n",
       "    <tr>\n",
       "      <th>25%</th>\n",
       "      <td>-6.298551</td>\n",
       "      <td>-8.267985</td>\n",
       "      <td>1.000021</td>\n",
       "      <td>26.953261</td>\n",
       "    </tr>\n",
       "    <tr>\n",
       "      <th>50%</th>\n",
       "      <td>1.153055</td>\n",
       "      <td>-4.813172</td>\n",
       "      <td>2.011479</td>\n",
       "      <td>57.085625</td>\n",
       "    </tr>\n",
       "    <tr>\n",
       "      <th>75%</th>\n",
       "      <td>8.621015</td>\n",
       "      <td>-1.332816</td>\n",
       "      <td>3.999904</td>\n",
       "      <td>107.813044</td>\n",
       "    </tr>\n",
       "    <tr>\n",
       "      <th>max</th>\n",
       "      <td>29.421755</td>\n",
       "      <td>18.734063</td>\n",
       "      <td>5.019721</td>\n",
       "      <td>137.945408</td>\n",
       "    </tr>\n",
       "  </tbody>\n",
       "</table>\n",
       "</div>"
      ],
      "text/plain": [
       "                  f0             f1             f2        product\n",
       "count  100000.000000  100000.000000  100000.000000  100000.000000\n",
       "mean        1.141296      -4.796579       2.494541      68.825000\n",
       "std         8.965932       5.119872       1.703572      45.944423\n",
       "min       -31.609576     -26.358598      -0.018144       0.000000\n",
       "25%        -6.298551      -8.267985       1.000021      26.953261\n",
       "50%         1.153055      -4.813172       2.011479      57.085625\n",
       "75%         8.621015      -1.332816       3.999904     107.813044\n",
       "max        29.421755      18.734063       5.019721     137.945408"
      ]
     },
     "metadata": {},
     "output_type": "display_data"
    },
    {
     "name": "stdout",
     "output_type": "stream",
     "text": [
      "Количество дубликатов: 0\n"
     ]
    }
   ],
   "source": [
    "geo_df_1 = df_info('geo_data_1.csv')"
   ]
  },
  {
   "cell_type": "code",
   "execution_count": 5,
   "metadata": {},
   "outputs": [
    {
     "data": {
      "text/html": [
       "<div>\n",
       "<style scoped>\n",
       "    .dataframe tbody tr th:only-of-type {\n",
       "        vertical-align: middle;\n",
       "    }\n",
       "\n",
       "    .dataframe tbody tr th {\n",
       "        vertical-align: top;\n",
       "    }\n",
       "\n",
       "    .dataframe thead th {\n",
       "        text-align: right;\n",
       "    }\n",
       "</style>\n",
       "<table border=\"1\" class=\"dataframe\">\n",
       "  <thead>\n",
       "    <tr style=\"text-align: right;\">\n",
       "      <th></th>\n",
       "      <th>id</th>\n",
       "      <th>f0</th>\n",
       "      <th>f1</th>\n",
       "      <th>f2</th>\n",
       "      <th>product</th>\n",
       "    </tr>\n",
       "  </thead>\n",
       "  <tbody>\n",
       "    <tr>\n",
       "      <th>0</th>\n",
       "      <td>fwXo0</td>\n",
       "      <td>-1.146987</td>\n",
       "      <td>0.963328</td>\n",
       "      <td>-0.828965</td>\n",
       "      <td>27.758673</td>\n",
       "    </tr>\n",
       "    <tr>\n",
       "      <th>1</th>\n",
       "      <td>WJtFt</td>\n",
       "      <td>0.262778</td>\n",
       "      <td>0.269839</td>\n",
       "      <td>-2.530187</td>\n",
       "      <td>56.069697</td>\n",
       "    </tr>\n",
       "    <tr>\n",
       "      <th>2</th>\n",
       "      <td>ovLUW</td>\n",
       "      <td>0.194587</td>\n",
       "      <td>0.289035</td>\n",
       "      <td>-5.586433</td>\n",
       "      <td>62.871910</td>\n",
       "    </tr>\n",
       "    <tr>\n",
       "      <th>3</th>\n",
       "      <td>q6cA6</td>\n",
       "      <td>2.236060</td>\n",
       "      <td>-0.553760</td>\n",
       "      <td>0.930038</td>\n",
       "      <td>114.572842</td>\n",
       "    </tr>\n",
       "    <tr>\n",
       "      <th>4</th>\n",
       "      <td>WPMUX</td>\n",
       "      <td>-0.515993</td>\n",
       "      <td>1.716266</td>\n",
       "      <td>5.899011</td>\n",
       "      <td>149.600746</td>\n",
       "    </tr>\n",
       "  </tbody>\n",
       "</table>\n",
       "</div>"
      ],
      "text/plain": [
       "      id        f0        f1        f2     product\n",
       "0  fwXo0 -1.146987  0.963328 -0.828965   27.758673\n",
       "1  WJtFt  0.262778  0.269839 -2.530187   56.069697\n",
       "2  ovLUW  0.194587  0.289035 -5.586433   62.871910\n",
       "3  q6cA6  2.236060 -0.553760  0.930038  114.572842\n",
       "4  WPMUX -0.515993  1.716266  5.899011  149.600746"
      ]
     },
     "metadata": {},
     "output_type": "display_data"
    },
    {
     "name": "stdout",
     "output_type": "stream",
     "text": [
      "<class 'pandas.core.frame.DataFrame'>\n",
      "RangeIndex: 100000 entries, 0 to 99999\n",
      "Data columns (total 5 columns):\n",
      " #   Column   Non-Null Count   Dtype  \n",
      "---  ------   --------------   -----  \n",
      " 0   id       100000 non-null  object \n",
      " 1   f0       100000 non-null  float64\n",
      " 2   f1       100000 non-null  float64\n",
      " 3   f2       100000 non-null  float64\n",
      " 4   product  100000 non-null  float64\n",
      "dtypes: float64(4), object(1)\n",
      "memory usage: 3.8+ MB\n"
     ]
    },
    {
     "data": {
      "text/plain": [
       "None"
      ]
     },
     "metadata": {},
     "output_type": "display_data"
    },
    {
     "data": {
      "text/html": [
       "<div>\n",
       "<style scoped>\n",
       "    .dataframe tbody tr th:only-of-type {\n",
       "        vertical-align: middle;\n",
       "    }\n",
       "\n",
       "    .dataframe tbody tr th {\n",
       "        vertical-align: top;\n",
       "    }\n",
       "\n",
       "    .dataframe thead th {\n",
       "        text-align: right;\n",
       "    }\n",
       "</style>\n",
       "<table border=\"1\" class=\"dataframe\">\n",
       "  <thead>\n",
       "    <tr style=\"text-align: right;\">\n",
       "      <th></th>\n",
       "      <th>f0</th>\n",
       "      <th>f1</th>\n",
       "      <th>f2</th>\n",
       "      <th>product</th>\n",
       "    </tr>\n",
       "  </thead>\n",
       "  <tbody>\n",
       "    <tr>\n",
       "      <th>count</th>\n",
       "      <td>100000.000000</td>\n",
       "      <td>100000.000000</td>\n",
       "      <td>100000.000000</td>\n",
       "      <td>100000.000000</td>\n",
       "    </tr>\n",
       "    <tr>\n",
       "      <th>mean</th>\n",
       "      <td>0.002023</td>\n",
       "      <td>-0.002081</td>\n",
       "      <td>2.495128</td>\n",
       "      <td>95.000000</td>\n",
       "    </tr>\n",
       "    <tr>\n",
       "      <th>std</th>\n",
       "      <td>1.732045</td>\n",
       "      <td>1.730417</td>\n",
       "      <td>3.473445</td>\n",
       "      <td>44.749921</td>\n",
       "    </tr>\n",
       "    <tr>\n",
       "      <th>min</th>\n",
       "      <td>-8.760004</td>\n",
       "      <td>-7.084020</td>\n",
       "      <td>-11.970335</td>\n",
       "      <td>0.000000</td>\n",
       "    </tr>\n",
       "    <tr>\n",
       "      <th>25%</th>\n",
       "      <td>-1.162288</td>\n",
       "      <td>-1.174820</td>\n",
       "      <td>0.130359</td>\n",
       "      <td>59.450441</td>\n",
       "    </tr>\n",
       "    <tr>\n",
       "      <th>50%</th>\n",
       "      <td>0.009424</td>\n",
       "      <td>-0.009482</td>\n",
       "      <td>2.484236</td>\n",
       "      <td>94.925613</td>\n",
       "    </tr>\n",
       "    <tr>\n",
       "      <th>75%</th>\n",
       "      <td>1.158535</td>\n",
       "      <td>1.163678</td>\n",
       "      <td>4.858794</td>\n",
       "      <td>130.595027</td>\n",
       "    </tr>\n",
       "    <tr>\n",
       "      <th>max</th>\n",
       "      <td>7.238262</td>\n",
       "      <td>7.844801</td>\n",
       "      <td>16.739402</td>\n",
       "      <td>190.029838</td>\n",
       "    </tr>\n",
       "  </tbody>\n",
       "</table>\n",
       "</div>"
      ],
      "text/plain": [
       "                  f0             f1             f2        product\n",
       "count  100000.000000  100000.000000  100000.000000  100000.000000\n",
       "mean        0.002023      -0.002081       2.495128      95.000000\n",
       "std         1.732045       1.730417       3.473445      44.749921\n",
       "min        -8.760004      -7.084020     -11.970335       0.000000\n",
       "25%        -1.162288      -1.174820       0.130359      59.450441\n",
       "50%         0.009424      -0.009482       2.484236      94.925613\n",
       "75%         1.158535       1.163678       4.858794     130.595027\n",
       "max         7.238262       7.844801      16.739402     190.029838"
      ]
     },
     "metadata": {},
     "output_type": "display_data"
    },
    {
     "name": "stdout",
     "output_type": "stream",
     "text": [
      "Количество дубликатов: 0\n"
     ]
    }
   ],
   "source": [
    "geo_df_2 = df_info('geo_data_2.csv')"
   ]
  },
  {
   "cell_type": "markdown",
   "metadata": {},
   "source": [
    "Пропусков и дубликатов нет, предобработка не требуется."
   ]
  },
  {
   "cell_type": "code",
   "execution_count": 6,
   "metadata": {},
   "outputs": [],
   "source": [
    "#Определим признаки и целовой признак:\n",
    "features = ['f0', 'f1', 'f2']\n",
    "target = ['product']\n",
    "features_0 = geo_df_0[features]\n",
    "target_0 = geo_df_0[target]\n",
    "features_1 = geo_df_1[features]\n",
    "target_1 = geo_df_1[target]\n",
    "features_2 = geo_df_2[features]\n",
    "target_2 = geo_df_2[target]"
   ]
  },
  {
   "cell_type": "markdown",
   "metadata": {},
   "source": [
    "## Обучение и проверка модели"
   ]
  },
  {
   "cell_type": "markdown",
   "metadata": {},
   "source": [
    "Для каждого региона разделим данные на обучающую и валидационную выборки и выведем средний запас предсказанного сырья и RMSE модели."
   ]
  },
  {
   "cell_type": "code",
   "execution_count": 7,
   "metadata": {},
   "outputs": [],
   "source": [
    "def model_fitting(features, target):\n",
    "    features_train, features_valid, target_train, target_valid = train_test_split(features, target, \n",
    "                                                                                  test_size=0.25, random_state=0)\n",
    "    print('Размер тренировочной выборки:', features_train.shape)\n",
    "    print('Размер валидационной выборки:', features_valid.shape)\n",
    "    model = LinearRegression()\n",
    "    model.fit(features_train, target_train)\n",
    "    predictions = model.predict(features_valid)\n",
    "    predictions_mean = predictions.mean()\n",
    "    rmse = mean_squared_error(target_valid, predictions) ** 0.5\n",
    "    print('Cредний запас предсказанного сырья: {:.4f}'.format(predictions_mean))\n",
    "    print('RMSE модели: {:.4f}'.format(rmse))\n",
    "    \n",
    "    return target_valid, predictions"
   ]
  },
  {
   "cell_type": "markdown",
   "metadata": {},
   "source": [
    "### Регион 1"
   ]
  },
  {
   "cell_type": "code",
   "execution_count": 8,
   "metadata": {},
   "outputs": [
    {
     "name": "stdout",
     "output_type": "stream",
     "text": [
      "Размер тренировочной выборки: (75000, 3)\n",
      "Размер валидационной выборки: (25000, 3)\n",
      "Cредний запас предсказанного сырья: 92.2714\n",
      "RMSE модели: 37.4810\n"
     ]
    }
   ],
   "source": [
    "target_valid_0, predictions_0 = model_fitting(features_0, target_0)"
   ]
  },
  {
   "cell_type": "markdown",
   "metadata": {},
   "source": [
    "### Регион 2"
   ]
  },
  {
   "cell_type": "code",
   "execution_count": 9,
   "metadata": {
    "scrolled": true
   },
   "outputs": [
    {
     "name": "stdout",
     "output_type": "stream",
     "text": [
      "Размер тренировочной выборки: (75000, 3)\n",
      "Размер валидационной выборки: (25000, 3)\n",
      "Cредний запас предсказанного сырья: 69.1516\n",
      "RMSE модели: 0.8873\n"
     ]
    }
   ],
   "source": [
    "target_valid_1, predictions_1 = model_fitting(features_1, target_1)"
   ]
  },
  {
   "cell_type": "markdown",
   "metadata": {},
   "source": [
    "### Регион 3"
   ]
  },
  {
   "cell_type": "code",
   "execution_count": 10,
   "metadata": {},
   "outputs": [
    {
     "name": "stdout",
     "output_type": "stream",
     "text": [
      "Размер тренировочной выборки: (75000, 3)\n",
      "Размер валидационной выборки: (25000, 3)\n",
      "Cредний запас предсказанного сырья: 94.7075\n",
      "RMSE модели: 40.3129\n"
     ]
    }
   ],
   "source": [
    "target_valid_2, predictions_2 = model_fitting(features_2, target_2)"
   ]
  },
  {
   "cell_type": "markdown",
   "metadata": {},
   "source": [
    "### Вывод\n",
    "Объем предсказанного сырья достаточно высокий для первого и третьего региона (92.3 и 94.7 соответственно), однако и RMSE этих моделей тоже высок. Объем предсказанного сырья для второго региона - 69, но и показатель RMSE тоже низкий."
   ]
  },
  {
   "cell_type": "markdown",
   "metadata": {},
   "source": [
    "## Подготовка к расчёту прибыли"
   ]
  },
  {
   "cell_type": "markdown",
   "metadata": {},
   "source": [
    "Рассчитаем достаточный объём сырья для безубыточной разработки новой скважины и сравним полученный объём сырья со средним запасом в каждом регионе."
   ]
  },
  {
   "cell_type": "markdown",
   "metadata": {},
   "source": [
    "* `BUDGET` - бюджет на разработку скважин в регионе\n",
    "* `TOP_WELLS` - всего скважин\n",
    "* `TOTAL_WELLS` - кол-во выбранных скважин\n",
    "* `UNIT_INCOME` - доход с каждой единицы продукта"
   ]
  },
  {
   "cell_type": "code",
   "execution_count": 11,
   "metadata": {},
   "outputs": [],
   "source": [
    "BUDGET = 10**10\n",
    "TOP_WELLS = 200\n",
    "TOTAL_WELLS = 500\n",
    "UNIT_INCOME = 450000"
   ]
  },
  {
   "cell_type": "code",
   "execution_count": 12,
   "metadata": {},
   "outputs": [
    {
     "name": "stdout",
     "output_type": "stream",
     "text": [
      "Достаточный объём сырья для безубыточной разработки новой скважины: 111 тыс. баррелей\n"
     ]
    }
   ],
   "source": [
    "min_product = BUDGET / (TOP_WELLS * UNIT_INCOME)\n",
    "print('Достаточный объём сырья для безубыточной разработки новой скважины: {:.0f}'.format(min_product), \n",
    "      'тыс. баррелей')"
   ]
  },
  {
   "cell_type": "markdown",
   "metadata": {},
   "source": [
    "### Вывод\n",
    "Достаточный объём сырья для безубыточной разработки новой скважины составляет 111 тыс. баррелей. Данный объем превышает средний запас в каждом регионе."
   ]
  },
  {
   "cell_type": "markdown",
   "metadata": {},
   "source": [
    "## Расчёт прибыли и рисков "
   ]
  },
  {
   "cell_type": "markdown",
   "metadata": {},
   "source": [
    "### Функция для расчёта прибыли по выбранным скважинам и предсказаниям модели:\n",
    "* Выберем скважины с максимальными значениями предсказаний\n",
    "* Просуммируем целевое значение объёма сырья, соответствующее этим предсказаниям\n",
    "* Рассчитаем прибыль для полученного объёма сырья"
   ]
  },
  {
   "cell_type": "code",
   "execution_count": 13,
   "metadata": {},
   "outputs": [],
   "source": [
    "target_valid_0 = pd.Series(target_valid_0['product']).reset_index(drop=True)\n",
    "target_valid_1 = pd.Series(target_valid_1['product']).reset_index(drop=True)\n",
    "target_valid_2 = pd.Series(target_valid_2['product']).reset_index(drop=True)"
   ]
  },
  {
   "cell_type": "code",
   "execution_count": 14,
   "metadata": {},
   "outputs": [],
   "source": [
    "predictions_0 = pd.Series(predictions_0[:, 0])\n",
    "predictions_1 = pd.Series(predictions_1[:, 0])\n",
    "predictions_2 = pd.Series(predictions_2[:, 0])"
   ]
  },
  {
   "cell_type": "code",
   "execution_count": 15,
   "metadata": {},
   "outputs": [],
   "source": [
    "def predict_income(target, predictions):\n",
    "    top_predictions = predictions.sort_values(ascending=False)\n",
    "    top_target = target[top_predictions.index][:TOP_WELLS]\n",
    "    income = top_target.sum() * UNIT_INCOME\n",
    "    return income - BUDGET"
   ]
  },
  {
   "cell_type": "code",
   "execution_count": 16,
   "metadata": {},
   "outputs": [
    {
     "name": "stdout",
     "output_type": "stream",
     "text": [
      "Прибыль с лучших 200 скважин в первом регионе: 3363408080  руб.\n",
      "Прибыль с лучших 200 скважин во втором регионе: 2415086697 руб.\n",
      "Прибыль с лучших 200 скважин в третьем регионе: 2623878684 руб.\n"
     ]
    }
   ],
   "source": [
    "print('Прибыль с лучших 200 скважин в первом регионе: {:.0f}'.format(predict_income(target_valid_0, \n",
    "                                                            predictions_0)), ' руб.')\n",
    "print('Прибыль с лучших 200 скважин во втором регионе: {:.0f}'.format(predict_income(target_valid_1, \n",
    "                                                            predictions_1)), 'руб.')\n",
    "print('Прибыль с лучших 200 скважин в третьем регионе: {:.0f}'.format(predict_income(target_valid_2, \n",
    "                                                            predictions_2)), 'руб.')"
   ]
  },
  {
   "cell_type": "markdown",
   "metadata": {},
   "source": [
    "### Функция для расчета рисков и прибыли для каждого региона:\n",
    "* Применим технику Bootstrap с 1000 выборок, чтобы найти распределение прибыли\n",
    "* Найдем среднюю прибыль, 95%-й доверительный интервал и риск убытков. "
   ]
  },
  {
   "cell_type": "code",
   "execution_count": 17,
   "metadata": {},
   "outputs": [],
   "source": [
    "def risk_calc(target, predictions):\n",
    "    \n",
    "    bootstrap_samples = 1000\n",
    "    alpha = 0.05\n",
    "    incomes = []\n",
    "    \n",
    "    state = np.random.RandomState(0)\n",
    "    \n",
    "    for i in range(bootstrap_samples):\n",
    "        income = pd.Series(predictions).sample(n = TOTAL_WELLS, replace=True, random_state=state)\n",
    "        incomes.append(predict_income(target, income))\n",
    "\n",
    "    incomes = pd.Series(incomes)\n",
    "    income_mean = incomes.mean()\n",
    "    print('Средняя прибыль: {:.0f}'.format(income_mean), 'руб.')\n",
    "    \n",
    "    lower = incomes.quantile(alpha / 2)\n",
    "    upper = incomes.quantile(1 - alpha / 2)\n",
    "    \n",
    "    loss_count = 0\n",
    "    for inc in incomes:\n",
    "        if inc < 0:\n",
    "            loss_count += 1\n",
    "    loss_rate = loss_count / bootstrap_samples\n",
    "    print('Риск убытков: {:.2f} %'.format(loss_rate * 100))\n",
    "    \n",
    "          \n",
    "    return print('95% доверительный интервал от {:.2f} до {:.2f} руб.'.format(lower, upper))"
   ]
  },
  {
   "cell_type": "markdown",
   "metadata": {},
   "source": [
    "### Регион 1"
   ]
  },
  {
   "cell_type": "code",
   "execution_count": 18,
   "metadata": {},
   "outputs": [
    {
     "name": "stdout",
     "output_type": "stream",
     "text": [
      "Средняя прибыль: 442871777 руб.\n",
      "Риск убытков: 3.90 %\n",
      "95% доверительный интервал от -49234991.85 до 921134683.98 руб.\n"
     ]
    }
   ],
   "source": [
    "risk_calc(target_valid_0, predictions_0)"
   ]
  },
  {
   "cell_type": "markdown",
   "metadata": {},
   "source": [
    "### Регион 2"
   ]
  },
  {
   "cell_type": "code",
   "execution_count": 19,
   "metadata": {},
   "outputs": [
    {
     "name": "stdout",
     "output_type": "stream",
     "text": [
      "Средняя прибыль: 472926700 руб.\n",
      "Риск убытков: 0.90 %\n",
      "95% доверительный интервал от 71697097.80 до 832287542.52 руб.\n"
     ]
    }
   ],
   "source": [
    "risk_calc(target_valid_1, predictions_1)"
   ]
  },
  {
   "cell_type": "markdown",
   "metadata": {},
   "source": [
    "### Регион 3"
   ]
  },
  {
   "cell_type": "code",
   "execution_count": 20,
   "metadata": {},
   "outputs": [
    {
     "name": "stdout",
     "output_type": "stream",
     "text": [
      "Средняя прибыль: 384657761 руб.\n",
      "Риск убытков: 7.20 %\n",
      "95% доверительный интервал от -134529829.24 до 900128467.31 руб.\n"
     ]
    }
   ],
   "source": [
    "risk_calc(target_valid_2, predictions_2)"
   ]
  },
  {
   "cell_type": "markdown",
   "metadata": {},
   "source": [
    "### Вывод\n",
    "\n",
    "Данные были обработаны и рассчитаны: \n",
    "- средняя прибыль; \n",
    "- 95%-й доверительный интервал;\n",
    "- риск убытков.\n",
    "\n",
    "Самый высокий показатель прибыли установлен для второго региона (472 млн. руб.) при самом низком риске убытков (0.9%). Таким образом, для разработки месторождения можно рекомендовать именно этот регион."
   ]
  },
  {
   "cell_type": "markdown",
   "metadata": {},
   "source": [
    "## Общий вывод\n",
    "\n",
    "При выполнении проекта было выполнено:\n",
    "\n",
    "- Изучены данные. Проведена подготовка данных к моделированию;\n",
    "- Обучена модель для каждого региона;\n",
    "- Составлена функция расчета прибыли в регионе;\n",
    "- Посчитана прибыль и риски за каждый регион и обоснован выбор региона;\n",
    "- Второй регион получился одним из лучших по показателям предсказывания."
   ]
  }
 ],
 "metadata": {
  "ExecuteTimeLog": [
   {
    "duration": 1832,
    "start_time": "2022-03-20T08:39:44.524Z"
   },
   {
    "duration": 183,
    "start_time": "2022-03-20T08:45:21.599Z"
   },
   {
    "duration": 235,
    "start_time": "2022-03-20T08:46:16.038Z"
   },
   {
    "duration": 27,
    "start_time": "2022-03-20T08:46:24.665Z"
   },
   {
    "duration": 18,
    "start_time": "2022-03-20T08:46:48.800Z"
   },
   {
    "duration": 159,
    "start_time": "2022-03-20T08:46:58.824Z"
   },
   {
    "duration": 20,
    "start_time": "2022-03-20T08:46:59.050Z"
   },
   {
    "duration": 158,
    "start_time": "2022-03-20T08:50:16.110Z"
   },
   {
    "duration": 18,
    "start_time": "2022-03-20T08:50:16.270Z"
   },
   {
    "duration": 18,
    "start_time": "2022-03-20T08:52:41.227Z"
   },
   {
    "duration": 5,
    "start_time": "2022-03-20T09:15:39.238Z"
   },
   {
    "duration": 492,
    "start_time": "2022-03-20T09:16:08.803Z"
   },
   {
    "duration": 211,
    "start_time": "2022-03-20T09:21:15.726Z"
   },
   {
    "duration": 4,
    "start_time": "2022-03-20T09:21:18.335Z"
   },
   {
    "duration": 17,
    "start_time": "2022-03-20T09:21:44.797Z"
   },
   {
    "duration": 209,
    "start_time": "2022-03-20T09:22:30.931Z"
   },
   {
    "duration": 51,
    "start_time": "2022-03-20T09:22:34.987Z"
   },
   {
    "duration": 6,
    "start_time": "2022-03-20T09:23:01.893Z"
   },
   {
    "duration": 334,
    "start_time": "2022-03-20T09:23:04.127Z"
   },
   {
    "duration": 6,
    "start_time": "2022-03-20T09:23:14.365Z"
   },
   {
    "duration": 322,
    "start_time": "2022-03-20T09:23:17.337Z"
   },
   {
    "duration": 309,
    "start_time": "2022-03-20T09:23:36.418Z"
   },
   {
    "duration": 300,
    "start_time": "2022-03-20T09:23:49.563Z"
   },
   {
    "duration": 3,
    "start_time": "2022-03-20T09:37:38.635Z"
   },
   {
    "duration": 5299,
    "start_time": "2022-03-20T09:39:57.979Z"
   },
   {
    "duration": 4336,
    "start_time": "2022-03-20T09:43:51.029Z"
   },
   {
    "duration": 989,
    "start_time": "2022-03-20T09:43:56.356Z"
   },
   {
    "duration": 240877,
    "start_time": "2022-03-20T09:44:37.782Z"
   },
   {
    "duration": 44,
    "start_time": "2022-03-20T09:48:38.663Z"
   },
   {
    "duration": 212494,
    "start_time": "2022-03-20T09:52:11.518Z"
   },
   {
    "duration": 252256,
    "start_time": "2022-03-20T09:55:44.020Z"
   },
   {
    "duration": 234905,
    "start_time": "2022-03-20T09:59:56.279Z"
   },
   {
    "duration": 15,
    "start_time": "2022-03-20T10:03:51.188Z"
   },
   {
    "duration": 206350,
    "start_time": "2022-03-20T10:06:15.208Z"
   },
   {
    "duration": 228961,
    "start_time": "2022-03-20T10:09:41.561Z"
   },
   {
    "duration": 207231,
    "start_time": "2022-03-20T10:13:30.524Z"
   },
   {
    "duration": 8,
    "start_time": "2022-03-20T10:16:57.758Z"
   },
   {
    "duration": 179,
    "start_time": "2022-03-20T10:16:57.768Z"
   },
   {
    "duration": 44,
    "start_time": "2022-03-20T10:17:08.860Z"
   },
   {
    "duration": 54,
    "start_time": "2022-03-20T10:17:32.213Z"
   },
   {
    "duration": 3,
    "start_time": "2022-03-20T10:17:50.100Z"
   },
   {
    "duration": 38,
    "start_time": "2022-03-20T10:18:05.699Z"
   },
   {
    "duration": 39,
    "start_time": "2022-03-20T10:18:12.713Z"
   },
   {
    "duration": 94,
    "start_time": "2022-03-20T10:18:14.061Z"
   },
   {
    "duration": 37,
    "start_time": "2022-03-20T10:18:16.831Z"
   },
   {
    "duration": 4,
    "start_time": "2022-03-20T10:21:37.021Z"
   },
   {
    "duration": 5,
    "start_time": "2022-03-20T10:22:07.065Z"
   },
   {
    "duration": 4,
    "start_time": "2022-03-20T10:22:11.837Z"
   },
   {
    "duration": 7,
    "start_time": "2022-03-20T10:22:11.970Z"
   },
   {
    "duration": 214,
    "start_time": "2022-03-20T10:23:33.690Z"
   },
   {
    "duration": 8,
    "start_time": "2022-03-20T10:29:20.497Z"
   },
   {
    "duration": 7,
    "start_time": "2022-03-20T10:29:53.575Z"
   },
   {
    "duration": 5,
    "start_time": "2022-03-20T10:30:03.989Z"
   },
   {
    "duration": 25,
    "start_time": "2022-03-20T10:31:04.370Z"
   },
   {
    "duration": 26,
    "start_time": "2022-03-20T10:34:48.671Z"
   },
   {
    "duration": 23,
    "start_time": "2022-03-20T10:34:56.561Z"
   },
   {
    "duration": 276,
    "start_time": "2022-03-20T10:41:42.521Z"
   },
   {
    "duration": 31,
    "start_time": "2022-03-20T10:41:49.380Z"
   },
   {
    "duration": 26,
    "start_time": "2022-03-20T10:41:56.865Z"
   },
   {
    "duration": 25,
    "start_time": "2022-03-20T10:42:18.625Z"
   },
   {
    "duration": 25,
    "start_time": "2022-03-20T10:42:46.220Z"
   },
   {
    "duration": 279,
    "start_time": "2022-03-20T10:43:04.989Z"
   },
   {
    "duration": 25,
    "start_time": "2022-03-20T10:43:17.187Z"
   },
   {
    "duration": 32,
    "start_time": "2022-03-20T10:43:29.537Z"
   },
   {
    "duration": 25,
    "start_time": "2022-03-20T10:45:20.801Z"
   },
   {
    "duration": 10,
    "start_time": "2022-03-20T10:47:38.170Z"
   },
   {
    "duration": 1237,
    "start_time": "2022-03-20T11:01:46.494Z"
   },
   {
    "duration": 1261,
    "start_time": "2022-03-20T11:01:51.385Z"
   },
   {
    "duration": 1131,
    "start_time": "2022-03-20T11:01:58.926Z"
   },
   {
    "duration": 7,
    "start_time": "2022-03-20T11:03:39.936Z"
   },
   {
    "duration": 1169,
    "start_time": "2022-03-20T11:03:42.863Z"
   },
   {
    "duration": 1125,
    "start_time": "2022-03-20T11:03:46.241Z"
   },
   {
    "duration": 8,
    "start_time": "2022-03-20T11:06:25.695Z"
   },
   {
    "duration": 1143,
    "start_time": "2022-03-20T11:06:30.538Z"
   },
   {
    "duration": 1114,
    "start_time": "2022-03-20T11:06:40.690Z"
   },
   {
    "duration": 1140,
    "start_time": "2022-03-20T11:06:46.769Z"
   },
   {
    "duration": 1930,
    "start_time": "2022-03-20T11:13:17.453Z"
   },
   {
    "duration": 6,
    "start_time": "2022-03-20T11:13:19.386Z"
   },
   {
    "duration": 360,
    "start_time": "2022-03-20T11:13:19.394Z"
   },
   {
    "duration": 309,
    "start_time": "2022-03-20T11:13:19.757Z"
   },
   {
    "duration": 320,
    "start_time": "2022-03-20T11:13:20.069Z"
   },
   {
    "duration": 179,
    "start_time": "2022-03-20T11:13:20.392Z"
   },
   {
    "duration": 0,
    "start_time": "2022-03-20T11:13:20.573Z"
   },
   {
    "duration": 0,
    "start_time": "2022-03-20T11:13:20.575Z"
   },
   {
    "duration": 0,
    "start_time": "2022-03-20T11:13:20.576Z"
   },
   {
    "duration": 0,
    "start_time": "2022-03-20T11:13:20.578Z"
   },
   {
    "duration": 0,
    "start_time": "2022-03-20T11:13:20.579Z"
   },
   {
    "duration": 0,
    "start_time": "2022-03-20T11:13:20.580Z"
   },
   {
    "duration": 0,
    "start_time": "2022-03-20T11:13:20.582Z"
   },
   {
    "duration": 0,
    "start_time": "2022-03-20T11:13:20.583Z"
   },
   {
    "duration": 0,
    "start_time": "2022-03-20T11:13:20.584Z"
   },
   {
    "duration": 0,
    "start_time": "2022-03-20T11:13:20.586Z"
   },
   {
    "duration": 0,
    "start_time": "2022-03-20T11:13:20.587Z"
   },
   {
    "duration": 0,
    "start_time": "2022-03-20T11:13:20.589Z"
   },
   {
    "duration": 0,
    "start_time": "2022-03-20T11:13:20.590Z"
   },
   {
    "duration": 0,
    "start_time": "2022-03-20T11:13:20.591Z"
   },
   {
    "duration": 0,
    "start_time": "2022-03-20T11:13:20.593Z"
   },
   {
    "duration": 0,
    "start_time": "2022-03-20T11:13:20.594Z"
   },
   {
    "duration": 0,
    "start_time": "2022-03-20T11:13:20.595Z"
   },
   {
    "duration": 1829,
    "start_time": "2022-03-20T11:13:43.530Z"
   },
   {
    "duration": 6,
    "start_time": "2022-03-20T11:13:45.362Z"
   },
   {
    "duration": 346,
    "start_time": "2022-03-20T11:13:45.370Z"
   },
   {
    "duration": 447,
    "start_time": "2022-03-20T11:13:45.719Z"
   },
   {
    "duration": 393,
    "start_time": "2022-03-20T11:13:46.168Z"
   },
   {
    "duration": 19,
    "start_time": "2022-03-20T11:13:46.564Z"
   },
   {
    "duration": 13,
    "start_time": "2022-03-20T11:13:46.586Z"
   },
   {
    "duration": 98,
    "start_time": "2022-03-20T11:13:46.602Z"
   },
   {
    "duration": 129,
    "start_time": "2022-03-20T11:13:46.744Z"
   },
   {
    "duration": 199,
    "start_time": "2022-03-20T11:13:46.879Z"
   },
   {
    "duration": 4,
    "start_time": "2022-03-20T11:13:47.155Z"
   },
   {
    "duration": 118,
    "start_time": "2022-03-20T11:13:47.164Z"
   },
   {
    "duration": 14,
    "start_time": "2022-03-20T11:13:47.284Z"
   },
   {
    "duration": 10,
    "start_time": "2022-03-20T11:13:47.301Z"
   },
   {
    "duration": 7,
    "start_time": "2022-03-20T11:13:47.313Z"
   },
   {
    "duration": 40,
    "start_time": "2022-03-20T11:13:47.323Z"
   },
   {
    "duration": 9,
    "start_time": "2022-03-20T11:13:47.365Z"
   },
   {
    "duration": 1209,
    "start_time": "2022-03-20T11:13:47.377Z"
   },
   {
    "duration": 1411,
    "start_time": "2022-03-20T11:13:48.588Z"
   },
   {
    "duration": 1200,
    "start_time": "2022-03-20T11:13:50.002Z"
   },
   {
    "duration": 206,
    "start_time": "2022-03-21T05:55:25.500Z"
   },
   {
    "duration": 200,
    "start_time": "2022-03-21T05:59:00.022Z"
   },
   {
    "duration": 3,
    "start_time": "2022-03-21T06:01:25.074Z"
   },
   {
    "duration": 3,
    "start_time": "2022-03-21T06:01:26.758Z"
   },
   {
    "duration": 41,
    "start_time": "2022-03-21T06:01:35.535Z"
   },
   {
    "duration": 1294,
    "start_time": "2022-03-21T06:02:07.153Z"
   },
   {
    "duration": 3,
    "start_time": "2022-03-21T06:02:08.449Z"
   },
   {
    "duration": 219,
    "start_time": "2022-03-21T06:02:08.453Z"
   },
   {
    "duration": 189,
    "start_time": "2022-03-21T06:02:08.681Z"
   },
   {
    "duration": 198,
    "start_time": "2022-03-21T06:02:08.871Z"
   },
   {
    "duration": 11,
    "start_time": "2022-03-21T06:02:09.080Z"
   },
   {
    "duration": 5,
    "start_time": "2022-03-21T06:02:09.093Z"
   },
   {
    "duration": 85,
    "start_time": "2022-03-21T06:02:09.099Z"
   },
   {
    "duration": 117,
    "start_time": "2022-03-21T06:02:09.186Z"
   },
   {
    "duration": 119,
    "start_time": "2022-03-21T06:02:09.381Z"
   },
   {
    "duration": 79,
    "start_time": "2022-03-21T06:02:09.502Z"
   },
   {
    "duration": 4,
    "start_time": "2022-03-21T06:02:09.582Z"
   },
   {
    "duration": 100,
    "start_time": "2022-03-21T06:02:09.588Z"
   },
   {
    "duration": 9,
    "start_time": "2022-03-21T06:02:09.690Z"
   },
   {
    "duration": 4,
    "start_time": "2022-03-21T06:02:09.701Z"
   },
   {
    "duration": 94,
    "start_time": "2022-03-21T06:02:09.707Z"
   },
   {
    "duration": 0,
    "start_time": "2022-03-21T06:02:09.802Z"
   },
   {
    "duration": 0,
    "start_time": "2022-03-21T06:02:09.804Z"
   },
   {
    "duration": 0,
    "start_time": "2022-03-21T06:02:09.805Z"
   },
   {
    "duration": 0,
    "start_time": "2022-03-21T06:02:09.806Z"
   },
   {
    "duration": 3,
    "start_time": "2022-03-21T06:02:57.811Z"
   },
   {
    "duration": 18,
    "start_time": "2022-03-21T06:03:02.038Z"
   },
   {
    "duration": 5,
    "start_time": "2022-03-21T06:04:11.406Z"
   },
   {
    "duration": 615,
    "start_time": "2022-03-21T06:04:16.897Z"
   },
   {
    "duration": 602,
    "start_time": "2022-03-21T06:04:18.977Z"
   },
   {
    "duration": 591,
    "start_time": "2022-03-21T06:04:21.188Z"
   },
   {
    "duration": 1161,
    "start_time": "2022-03-21T06:06:40.804Z"
   },
   {
    "duration": 3,
    "start_time": "2022-03-21T06:06:41.967Z"
   },
   {
    "duration": 235,
    "start_time": "2022-03-21T06:06:41.972Z"
   },
   {
    "duration": 202,
    "start_time": "2022-03-21T06:06:42.210Z"
   },
   {
    "duration": 197,
    "start_time": "2022-03-21T06:06:42.414Z"
   },
   {
    "duration": 10,
    "start_time": "2022-03-21T06:06:42.612Z"
   },
   {
    "duration": 11,
    "start_time": "2022-03-21T06:06:42.624Z"
   },
   {
    "duration": 47,
    "start_time": "2022-03-21T06:06:42.636Z"
   },
   {
    "duration": 212,
    "start_time": "2022-03-21T06:06:42.684Z"
   },
   {
    "duration": 201,
    "start_time": "2022-03-21T06:06:42.899Z"
   },
   {
    "duration": 80,
    "start_time": "2022-03-21T06:06:43.102Z"
   },
   {
    "duration": 98,
    "start_time": "2022-03-21T06:06:43.185Z"
   },
   {
    "duration": 5,
    "start_time": "2022-03-21T06:06:43.285Z"
   },
   {
    "duration": 10,
    "start_time": "2022-03-21T06:06:43.292Z"
   },
   {
    "duration": 6,
    "start_time": "2022-03-21T06:06:43.303Z"
   },
   {
    "duration": 20,
    "start_time": "2022-03-21T06:06:43.311Z"
   },
   {
    "duration": 5,
    "start_time": "2022-03-21T06:06:43.332Z"
   },
   {
    "duration": 650,
    "start_time": "2022-03-21T06:06:43.339Z"
   },
   {
    "duration": 612,
    "start_time": "2022-03-21T06:06:43.990Z"
   },
   {
    "duration": 616,
    "start_time": "2022-03-21T06:06:44.603Z"
   },
   {
    "duration": 13,
    "start_time": "2022-03-24T11:26:24.780Z"
   },
   {
    "duration": 69,
    "start_time": "2022-03-24T11:26:27.552Z"
   },
   {
    "duration": 1574,
    "start_time": "2022-03-24T11:26:30.940Z"
   },
   {
    "duration": 94,
    "start_time": "2022-03-24T11:26:35.828Z"
   }
  ],
  "kernelspec": {
   "display_name": "Python 3 (ipykernel)",
   "language": "python",
   "name": "python3"
  },
  "language_info": {
   "codemirror_mode": {
    "name": "ipython",
    "version": 3
   },
   "file_extension": ".py",
   "mimetype": "text/x-python",
   "name": "python",
   "nbconvert_exporter": "python",
   "pygments_lexer": "ipython3",
   "version": "3.9.10"
  },
  "toc": {
   "base_numbering": 1,
   "nav_menu": {},
   "number_sections": true,
   "sideBar": true,
   "skip_h1_title": true,
   "title_cell": "Содержание",
   "title_sidebar": "Contents",
   "toc_cell": true,
   "toc_position": {},
   "toc_section_display": true,
   "toc_window_display": true
  }
 },
 "nbformat": 4,
 "nbformat_minor": 2
}
